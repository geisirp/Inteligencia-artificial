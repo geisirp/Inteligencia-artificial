{
  "nbformat": 4,
  "nbformat_minor": 0,
  "metadata": {
    "colab": {
      "provenance": [],
      "authorship_tag": "ABX9TyMiBe5YumvfNo9+g2AjUDeh",
      "include_colab_link": true
    },
    "kernelspec": {
      "name": "python3",
      "display_name": "Python 3"
    },
    "language_info": {
      "name": "python"
    }
  },
  "cells": [
    {
      "cell_type": "markdown",
      "metadata": {
        "id": "view-in-github",
        "colab_type": "text"
      },
      "source": [
        "<a href=\"https://colab.research.google.com/github/geisirp/Inteligencia-artificial/blob/main/Rede_de_trocadores_de_calor.ipynb\" target=\"_parent\"><img src=\"https://colab.research.google.com/assets/colab-badge.svg\" alt=\"Open In Colab\"/></a>"
      ]
    },
    {
      "cell_type": "code",
      "execution_count": 1,
      "metadata": {
        "id": "OwlwyqCBMCpt"
      },
      "outputs": [],
      "source": [
        "import random\n",
        "import numpy as np\n"
      ]
    },
    {
      "cell_type": "code",
      "source": [
        "# Target: temperatures initial and target\n",
        "Target = {'H1':[180,75],'H2':[280,120],'H3':[180,75],\n",
        "          'H4':[140,40],'H5':[220,120],'H6':[180,55],'H7':[200,60],'H8':[120,40],\n",
        "          'C1':[40,230],'C2':[100,220],'C3':[40,190],\n",
        "          'C4':[50,190],'C5':[50,250],'C6':[90,190],'C7':[160,250]}\n",
        "\n",
        "Util = {'cold':[25,40],'hot':[325,325]}\n",
        "\n",
        "# Temperatures (hot streams first, cold after and starting with H/C for hot and cold) otherwise need to adapt the code\n",
        "Prop = {'H1':[30, 2 ],'H2':[60, 1 ],'H3':[30, 2],\n",
        "        'H4':[30, 1 ],'H5':[50, 1 ],'H6':[35, 2 ],'H7':[30, 0.4 ],'H8':[100, 0.5 ],\n",
        "        'C1':[20,1 ],'C2':[60, 1 ],'C3':[35, 2],\n",
        "        'C4':[30,2 ],'C5':[60, 2],'C6':[50, 1], 'C7':[60, 3],'cold':[4.186,2],'hot':[4.186,1]} # CP e H\n",
        "n_hot = 8\n",
        "\n",
        "# w input of swarm intelligence size = n_exchages*num_hot\n",
        "n_trocas = 3\n",
        "w = [0.5,0.3,0.8,0.5,0.8,0.8,0.55,0.15,0.15,0.12,0.13,0.08]"
      ],
      "metadata": {
        "id": "P-BEg-G9QzMb"
      },
      "execution_count": 5,
      "outputs": []
    },
    {
      "cell_type": "code",
      "source": [
        "def Cost_find(w,Target = Target, Prop = Prop, Util= Util, n_trocas = n_trocas, ans = False ):\n",
        "  w = list(w)\n",
        "  Gasta_cold = [] # [Area,flow,kwy] for each stream\n",
        "  Gasta_hot = []  # [Area,flow,kwy] for each stream\n",
        "  U_q =[]\n",
        "  names = list(Target.keys())\n",
        "  n_hot, n_cold, stream= 0, 0, ['No']\n",
        "  # constroi temperaturas\n",
        "  Temp ={}\n",
        "  for word in names:\n",
        "    Temp[word]=[Target[word][0]]\n",
        "\n",
        "  for word in names:\n",
        "    if 'H' in word:\n",
        "      n_hot += 1\n",
        "    elif 'C' in word:\n",
        "      n_cold += 1\n",
        "      stream.append(word)\n",
        "  \n",
        "  N = len(stream)\n",
        "  r = 1/N\n",
        "  trocas =[]\n",
        "  Areas = []\n",
        "  n = n_trocas*n_hot\n",
        "  \n",
        "  x = w[0:n]\n",
        "  tx = w[n:(2*n)]\n",
        "\n",
        "  cont = 0\n",
        "  for xi in x:\n",
        "    total = 0\n",
        "    cont += 1\n",
        "    for k in range(N):\n",
        "      total += r\n",
        "      if xi <= total:\n",
        "        trocas.append(stream[k])\n",
        "        break \n",
        "  n1, n2, matrix_trocas, xt_hot = 0, 0, [],[]\n",
        "\n",
        "  while(len(trocas) < n):\n",
        "    trocas.append('No')\n",
        "  \n",
        "  num = int(len(trocas)/n_hot)\n",
        "  # print('num',num, trocas)\n",
        "\n",
        "  for idx in range(n_hot):\n",
        "    tr, dr =  [], []\n",
        "    n2 = num*(1+idx)\n",
        "    tr.append(trocas[n1:n2])\n",
        "    dr.append(tx[n1:n2])\n",
        "    matrix_trocas.append(tr[0])\n",
        "    xt_hot.append(dr[0])\n",
        "    n1 = n2\n",
        "  \n",
        "  idx = 0\n",
        "  # update hot temperature\n",
        "  for j in range(n_trocas):\n",
        "    for k in range(n_hot):\n",
        "      x = Temp[names[k]][idx]\n",
        "      # print('matrix_trocas, k,j',matrix_trocas, k,j)\n",
        "      cold = matrix_trocas[k][j]\n",
        "      hot = names[k]\n",
        "      if cold == 'No':\n",
        "        Temp[names[k]].append(x)\n",
        "      else:\n",
        "        # x, y = hot and cold temperatures\n",
        "        dx = Target[hot][0]-Target[hot][1]\n",
        "        x0 = x* 1.0\n",
        "        y0 = Temp[cold][-1]\n",
        "        x = x - dx * xt_hot[k][j]\n",
        "        CP_c = Prop[cold][0]\n",
        "        CP_h = Prop[hot][0]\n",
        "        Q = CP_c* dx * xt_hot[k][j]\n",
        "        y = CP_h*dx * xt_hot[k][j]/CP_c + Temp[cold][-1]\n",
        "        d1 = x0- y\n",
        "        d2 = x - y0\n",
        "        U = 1.0 / ( 1.0/Prop[cold][1]+ 1.0/Prop[hot][1])\n",
        "        if d2 != 0 and d1*d2 > 0:\n",
        "          check = 'ok'\n",
        "        else:\n",
        "          check = 'no'\n",
        "        if x0 > y and x > y0 and check == 'ok': # so troca calor se a temperatura fria final for menor q a temperatura quente final\n",
        "          Temp[cold].append(y)\n",
        "          Temp[names[k]].append(x)\n",
        "          LMDT = (d1 - d2) / np.log(d1/d2)\n",
        "          A = Q /(U*LMDT) \n",
        "          Areas.append(A)\n",
        "          U_q.append(U)\n",
        "        else:\n",
        "          y = Temp[cold][-1]\n",
        "          x = Temp[names[k]][-1]\n",
        "          Temp[cold].append(y)\n",
        "          Temp[names[k]].append(x)       \n",
        "    idx += 1\n",
        "\n",
        "  cp_hot = Prop['hot'][0] # cp\n",
        "  dt = Util['cold'][1]-Util['cold'][0]\n",
        "  cp_cold = Prop['cold'][0]*dt \n",
        "\n",
        "  for word in names:\n",
        "    x0 = Temp[word][-1]\n",
        "    x = Target[word][1]\n",
        "    cp = Prop[word][0]\n",
        "    Q = cp*abs(x-x0)\n",
        "    \n",
        "    if x0 < x : # cooling activate\n",
        "      flow = Q/cp_cold\n",
        "      U = 1.0 / ( 1.0/Prop[word][1]+ 1.0/Prop['cold'][1])\n",
        "      y0 = Util['cold'][0]\n",
        "      y = Util['cold'][1]\n",
        "      d1 = x0- y\n",
        "      d2 = x - y0   \n",
        "      if d2 != 0 and d1*d2 > 0:\n",
        "        check = 'ok'\n",
        "      else:\n",
        "        check = 'no'\n",
        "      \n",
        "\n",
        "      # so troca calor se a temperatura fria final for menor q a temperatura quente final\n",
        "      if x0 > y and x > y0 and check == 'ok': \n",
        "        #print('d1,d2',d1,d2)\n",
        "        LMDT = (d1 - d2) / np.log(d1/d2)\n",
        "        A = Q /(U*LMDT) # convert MW to kW\n",
        "        kW = Q\n",
        "        Gasta_cold.append([A,flow,kW])   \n",
        "    else:\n",
        "      flow = Q / cp_hot \n",
        "      U = 1.0 / ( 1.0/Prop[word][1]+ 1.0/Prop['cold'][1])\n",
        "      y0 = Util['hot'][0]\n",
        "      y = Util['hot'][1]\n",
        "      d1 = y-x0 \n",
        "      d2 = y0  -x   \n",
        "      if d2 != 0 and d1*d2 > 0:\n",
        "        check = 'ok'\n",
        "      else:\n",
        "        check = 'no'\n",
        "      if x0 < y and x < y0 and check == 'ok': # so troca calor se a temperatura fria final for menor q a temperatura quente final\n",
        "        #print('d1,d2',d1,d2)\n",
        "        LMDT = (d1 - d2) / np.log(d1/d2)\n",
        "        A = Q /(U*LMDT)\n",
        "        kW= Q\n",
        "        Gasta_hot.append([A,flow,kW])   \n",
        "\n",
        "  Cost = 0\n",
        "  #a, n, h, c = 4333,0.6, 150.53, 53.064 # L.V. Pavao et al. / Energy 142 (2018) 356e372\n",
        "  a1,a2, h, c = 2000, 70,  60, 6 # Chemical Engineering Science 158 (2017) 96–107- Pavao et al\n",
        "\n",
        "  for A in Areas:\n",
        "    Cost += a1+a2*A #a*A**n\n",
        "  for x in Gasta_hot:\n",
        "    Cost += a1+a2*A #a*A**n\n",
        "    Cost += h*x[2] # x[2]: steam \n",
        "\n",
        "  for x in Gasta_cold:\n",
        "    Cost += a1+a2*A # a*x[0]**n\n",
        "    Cost += c*x[2] # x[2]: cold water kW\n",
        "  if np.isnan(Cost)==True:\n",
        "    Cost = 1e99\n",
        "  if ans == False:\n",
        "    return Cost\n",
        "  else:\n",
        "    return Cost, matrix_trocas, Temp"
      ],
      "metadata": {
        "id": "PIEm24S62yjN"
      },
      "execution_count": 6,
      "outputs": []
    },
    {
      "cell_type": "code",
      "source": [
        "w = [0.3]*4+[0.8]*4+[0.5]*4+[1]*12\n"
      ],
      "metadata": {
        "id": "JQ4JOHvb3DDd"
      },
      "execution_count": 8,
      "outputs": []
    },
    {
      "cell_type": "code",
      "source": [
        "fitness_function = Cost_find"
      ],
      "metadata": {
        "id": "1mSBSCLu3FO6"
      },
      "execution_count": 9,
      "outputs": []
    },
    {
      "cell_type": "code",
      "source": [
        "def fun(x):\n",
        "  n = x.shape[0]\n",
        "  ans = np.zeros(n)\n",
        "  for i in range(n):\n",
        "    ans[i] = fitness_function(x[i,:])\n",
        "  return ans"
      ],
      "metadata": {
        "id": "D2Q0TSnG3IwI"
      },
      "execution_count": 10,
      "outputs": []
    },
    {
      "cell_type": "code",
      "source": [
        "def pop_rnd(population,dimension,Max,Min):\n",
        "  x = np.zeros((population,dimension))\n",
        "  for i in range(population):\n",
        "    for j in range(dimension):\n",
        "      r = np.random.rand()\n",
        "      x[i,j] = Min[j] + r*(Max[j]-Min[j])\n",
        "  return x"
      ],
      "metadata": {
        "id": "bRF93Mqw3OCa"
      },
      "execution_count": 11,
      "outputs": []
    },
    {
      "cell_type": "code",
      "source": [
        "def best(xp,xg,fp,fg,fitness,x):\n",
        "  # gbest, pbest = solution vector with best function \n",
        "  #                (global and particle gen)\n",
        "  # fitness = values of function all particles\n",
        "  # best = values of function best all iterations\n",
        "  n = x.shape[0]\n",
        "\n",
        "  for i in range(n):\n",
        "    if fp[i] >= fitness[i]:\n",
        "      xp[i,:] = x[i,:]*1.0\n",
        "      fp[i] = fitness[i]*1.0\n",
        "    if fg >= fitness[i]:\n",
        "      xg = xp[i,:]*1.0\n",
        "      fg = fitness[i]* 1.0\n",
        "  return xp,fp,xg,fg"
      ],
      "metadata": {
        "id": "_jqkpRzH3SSi"
      },
      "execution_count": 12,
      "outputs": []
    },
    {
      "cell_type": "code",
      "source": [
        "def melhora(x,fit,xnew):\n",
        "  n = x.shape[0]\n",
        "  fnew = fun(xnew)\n",
        "  for i in range(n):\n",
        "    if fit[i] >= fnew[i]:\n",
        "      x[i,:] = xnew[i,:]\n",
        "      fit[i] = fnew[i]\n",
        "  \n",
        "  return x,fit"
      ],
      "metadata": {
        "id": "Dr2qLhOJ3V7T"
      },
      "execution_count": 13,
      "outputs": []
    },
    {
      "cell_type": "code",
      "source": [
        "def PSO(D,pop,gen,Max,Min):\n",
        "  fp = np.ones(pop)*1e99\n",
        "  v = np.zeros((pop,D))\n",
        "  vnew = np.zeros((pop,D))\n",
        "  xnew = np.zeros((pop,D))\n",
        "  fg = 1e99\n",
        "  xg = np.ones((1,D))\n",
        "  xp = np.ones((pop,D))\n",
        "  x = pop_rnd(pop,D,Max,Min)\n",
        "  w, c1, c2 =0.8,  0.1, 0.1\n",
        "  fit = fun(x)\n",
        "  #print('fit', fit)\n",
        "  #print(x)\n",
        "  for k in range(gen):\n",
        "    xp,fp,xg,fg = best(xp,xg,fp,fg,fit,x)\n",
        "    for i in range(pop):\n",
        "      for j in range(D):\n",
        "        r1 = np.random.rand()\n",
        "        r2 = np.random.rand()\n",
        "        vnew[i,j] = w*v[i,j]- c1*r1*(xp[i,j]-x[i,j])+ c2*r2*(xg[j]-x[i,j])\n",
        "        v[i,j] = vnew[i,j]* 1.0\n",
        "        xnew[i,j] = x[i,j] - vnew[i,j]\n",
        "        if xnew[i,j] > Max[j] or xnew[i,j] < Min[j]:\n",
        "          xnew[i,j] = Min[j] + r1*(Max[j]-Min[j])\n",
        "\n",
        "    x,fit = melhora(x,fit,xnew)  \n",
        "  \n",
        "  return xg,fg"
      ],
      "metadata": {
        "id": "n3t4X8dB3aKx"
      },
      "execution_count": 14,
      "outputs": []
    },
    {
      "cell_type": "code",
      "source": [
        "D = n_hot*n_trocas* 2\n",
        "pop = 300\n",
        "gen = 300\n",
        "NPAR=1 #Numero de fontes de comida\n",
        "ITE=1 #ITERACOES (maxCycle)\n",
        "PAR=n_hot*n_trocas* 2 #NUM DE PARAMETROS A SER OTIMIZADOS\n",
        "print(40*'=',PAR,40*'=')\n",
        "MAX=[] # MAXIMO DE CADA PARAMETRO\n",
        "MIN=[] # MINIMO DE CADA PARAMETRO\n",
        "for k in range(PAR):\n",
        "  MAX.append(1)\n",
        "  MIN.append(0)\n",
        "xg,fg = PSO(D,pop,gen,MAX,MIN)\n",
        "print(xg)\n",
        "print(fg)"
      ],
      "metadata": {
        "id": "fRtIhoPW3ezi",
        "colab": {
          "base_uri": "https://localhost:8080/"
        },
        "outputId": "50b6c336-e95e-4690-a88d-c8d406a2cbc8"
      },
      "execution_count": 15,
      "outputs": [
        {
          "output_type": "stream",
          "name": "stdout",
          "text": [
            "======================================== 48 ========================================\n"
          ]
        },
        {
          "output_type": "stream",
          "name": "stderr",
          "text": [
            "<ipython-input-6-1e6592f7a7f0>:85: RuntimeWarning: invalid value encountered in double_scalars\n",
            "  LMDT = (d1 - d2) / np.log(d1/d2)\n"
          ]
        },
        {
          "output_type": "stream",
          "name": "stdout",
          "text": [
            "[0.25868612 0.6661959  0.30800622 0.40856088 0.40296232 0.66218793\n",
            " 0.86262152 0.73200227 0.36529958 0.9761247  0.8662802  0.37203968\n",
            " 0.23757844 0.70279748 0.81907434 0.50004135 0.73265598 0.76298714\n",
            " 0.42900986 0.6407049  0.37179091 0.69444952 0.02003232 0.32049994\n",
            " 0.5042876  0.93385385 0.65209291 0.00813246 0.58282334 0.70284696\n",
            " 0.9096678  0.34207516 0.33495886 0.31134527 0.15074599 0.19363763\n",
            " 0.58960766 0.01411106 0.21379468 0.73840543 0.53493959 0.37718914\n",
            " 0.78471829 0.52886418 0.9585284  0.39712091 0.55220543 0.36800383]\n",
            "1289340.4307818555\n"
          ]
        }
      ]
    },
    {
      "cell_type": "code",
      "source": [
        "for resp in Cost_find(xg, ans=True):\n",
        "  print(resp)"
      ],
      "metadata": {
        "id": "SnF3bQF63i4q"
      },
      "execution_count": null,
      "outputs": []
    }
  ]
}